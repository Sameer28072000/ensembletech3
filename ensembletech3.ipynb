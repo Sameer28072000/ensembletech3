{
 "cells": [
  {
   "cell_type": "markdown",
   "id": "4c42a02b-b7c0-48cc-b1ac-9e01ec4d64e3",
   "metadata": {},
   "source": [
    "Q1. What is Random Forest Regressor?"
   ]
  },
  {
   "cell_type": "code",
   "execution_count": null,
   "id": "01b1b9b2-15ef-4a9f-bdaa-0b478bb323ac",
   "metadata": {},
   "outputs": [],
   "source": [
    "Ans:- Random forest regressor is the algorithm of machine learning belong to ensemble learning.\n",
    "      Average o/p of the model.\n",
    "      Random forest regressor combining multiple trees."
   ]
  },
  {
   "cell_type": "markdown",
   "id": "58d7e07a-e64e-4f19-b1f1-39482fa854f3",
   "metadata": {},
   "source": [
    "Q2. How does Random Forest Regressor reduce the risk of overfitting?"
   ]
  },
  {
   "cell_type": "code",
   "execution_count": null,
   "id": "f68839e6-b784-4b0f-afb9-6548d1f413ae",
   "metadata": {},
   "outputs": [],
   "source": [
    "Ans:-In random forest regressor combining multiple trees.\n",
    "      Combining multiple trees the chanceses of overfitting less because we build the model with multiple trees.\n",
    "       Random forest regressor will give better accuracy."
   ]
  },
  {
   "cell_type": "markdown",
   "id": "edcf048b-00da-49c4-bc91-0bbb1e3e5b67",
   "metadata": {},
   "source": [
    "Q3. How does Random Forest Regressor aggregate the predictions of multiple decision trees?"
   ]
  },
  {
   "cell_type": "code",
   "execution_count": null,
   "id": "30524a4a-a587-4baf-80dd-597626beb2e5",
   "metadata": {},
   "outputs": [],
   "source": [
    "Ans:-Random Forest Regressor aggregate the predictions of multiple decision trees average technique.\n",
    "      Average o/p of the model ."
   ]
  },
  {
   "cell_type": "markdown",
   "id": "98463181-b2b6-4a7a-92e3-166d6f68e26b",
   "metadata": {},
   "source": [
    "Q4. What are the hyperparameters of Random Forest Regressor?"
   ]
  },
  {
   "cell_type": "code",
   "execution_count": null,
   "id": "1b4687c3-1147-4f58-ba56-4b232842d7fe",
   "metadata": {},
   "outputs": [],
   "source": [
    "Ans:-\n",
    "      i.n_estimater\n",
    "       ii.max_depth\n",
    "        iii.min_sample_split\n",
    "          iv.max feature\n",
    "            v.bootstrap"
   ]
  },
  {
   "cell_type": "markdown",
   "id": "ab0cfc8c-537b-4960-be23-90d6a26bb3a9",
   "metadata": {},
   "source": [
    "Q5. What is the difference between Random Forest Regressor and Decision Tree Regressor?"
   ]
  },
  {
   "cell_type": "code",
   "execution_count": null,
   "id": "f14dc87d-2d77-4473-99cc-2b490d4cc434",
   "metadata": {},
   "outputs": [],
   "source": [
    "Ans:-\n",
    "       Decision Tree Regressor:-                                 Random Forest Regressor:-\n",
    "                overfitting                                          Generalized model\n",
    "           Training accuracy------>high----->low bias------------>low bias\n",
    "            testing accuracy------>low------>high variance-------->low variance"
   ]
  },
  {
   "cell_type": "markdown",
   "id": "29f178b2-d02f-4814-a208-382a3dc019c5",
   "metadata": {},
   "source": [
    "Q6. What are the advantages and disadvantages of Random Forest Regressor?"
   ]
  },
  {
   "cell_type": "code",
   "execution_count": null,
   "id": "41488b55-1f2f-4590-9041-ab380f429ef4",
   "metadata": {},
   "outputs": [],
   "source": [
    "Ans:-  Advantages of Random Forest Regressor:-\n",
    "         i.Robust to outlier\n",
    "          ii.handling high dimension data\n",
    "            iii.reduce overfitting\n",
    "            \n",
    "            Disadvantages of Random Forest Regressor:-\n",
    "               i.computational complexity\n",
    "                ii.Difficulty to handle imbalanced data"
   ]
  },
  {
   "cell_type": "markdown",
   "id": "02092d07-1c35-4095-a91c-45f25d39dd02",
   "metadata": {},
   "source": [
    "Q7. What is the output of Random Forest Regressor?"
   ]
  },
  {
   "cell_type": "code",
   "execution_count": null,
   "id": "a555abdf-b471-4e40-806d-d3aaca5850a6",
   "metadata": {},
   "outputs": [],
   "source": [
    "Ans:- The output of Random Forest Regressor is the prediction of target variable.\n",
    "       the output of Random Forest Regressor should be continous."
   ]
  },
  {
   "cell_type": "markdown",
   "id": "931c1fc2-8687-4bf8-8013-3be86a757bd1",
   "metadata": {},
   "source": [
    "Q8. Can Random Forest Regressor be used for classification tasks?"
   ]
  },
  {
   "cell_type": "code",
   "execution_count": null,
   "id": "2972851d-3fe7-4b2b-9270-4bfa52f181cd",
   "metadata": {},
   "outputs": [],
   "source": [
    "Ans:-Yes,Random Forest Regressor be used for classification tasks "
   ]
  }
 ],
 "metadata": {
  "kernelspec": {
   "display_name": "Python 3 (ipykernel)",
   "language": "python",
   "name": "python3"
  },
  "language_info": {
   "codemirror_mode": {
    "name": "ipython",
    "version": 3
   },
   "file_extension": ".py",
   "mimetype": "text/x-python",
   "name": "python",
   "nbconvert_exporter": "python",
   "pygments_lexer": "ipython3",
   "version": "3.10.8"
  }
 },
 "nbformat": 4,
 "nbformat_minor": 5
}
